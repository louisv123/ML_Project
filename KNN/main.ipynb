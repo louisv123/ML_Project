{
 "cells": [
  {
   "cell_type": "code",
   "execution_count": null,
   "metadata": {
    "collapsed": true
   },
   "outputs": [],
   "source": [
    "from numpy import *\n",
    "import matplotlib.pyplot as plt\n",
    "from loadMnist import loadMnist\n",
    "from kNN import kNN   "
   ]
  },
  {
   "cell_type": "code",
   "execution_count": 2,
   "metadata": {
    "collapsed": true
   },
   "outputs": [],
   "source": [
    "# Load training and test data\n",
    "trainingImages, trainingLabels = loadMnist('training')\n",
    "testImages, testLabels = loadMnist('testing')"
   ]
  },
  {
   "cell_type": "code",
   "execution_count": 3,
   "metadata": {
    "collapsed": true
   },
   "outputs": [],
   "source": [
    "# Keep a subset of the training (60,000 images) and test (10,000) data\n",
    "trainingImages = trainingImages[:2000,:]\n",
    "trainingLabels = trainingLabels[:2000]"
   ]
  },
  {
   "cell_type": "code",
   "execution_count": 4,
   "metadata": {},
   "outputs": [
    {
     "data": {
      "text/plain": [
       "array([5, 0, 4, ..., 5, 2, 0], dtype=int8)"
      ]
     },
     "execution_count": 4,
     "metadata": {},
     "output_type": "execute_result"
    }
   ],
   "source": [
    "trainingLabels\n",
    "\n"
   ]
  },
  {
   "cell_type": "code",
   "execution_count": 5,
   "metadata": {
    "collapsed": true
   },
   "outputs": [],
   "source": [
    "# Test for only a subset of the dataset (e.g., 20 images) to keep the running time relatively low\n",
    "testImages = testImages[:20,:]\n",
    "testLabels = testLabels[:20]"
   ]
  },
  {
   "cell_type": "code",
   "execution_count": 6,
   "metadata": {},
   "outputs": [
    {
     "data": {
      "image/png": "[encoded data removed]",
      "text/plain": [
       "<matplotlib.figure.Figure at 0x7d84c88>"
      ]
     },
     "metadata": {},
     "output_type": "display_data"
    }
   ],
   "source": [
    "# Show the first ten digits\n",
    "fig = plt.figure('First 10 Digits') \n",
    "for i in range(10):\n",
    "    a = fig.add_subplot(2,5,i+1) \n",
    "    plt.imshow(testImages[i,:].reshape(28,28), cmap=plt.cm.gray)\n",
    "    plt.axis('off')\n",
    "\n",
    "plt.show()"
   ]
  },
  {
   "cell_type": "code",
   "execution_count": 7,
   "metadata": {},
   "outputs": [],
   "source": [
    "# Run kNN algorithm\n",
    "k = 5\n",
    "predictedDigits = zeros(testImages.shape[0])\n",
    "predictedDigits=kNN(k, trainingImages, trainingLabels, testImages)\n",
    "#for i in range(testImages.shape[0]):\n",
    "    #print \"Current Test Instance: \" + str(i+1)\n",
    "    #predictedDigits[i] = kNN(k, trainingImages, trainingLabels, testImages[i,:])\n"
   ]
  },
  {
   "cell_type": "code",
   "execution_count": 8,
   "metadata": {},
   "outputs": [
    {
     "data": {
      "text/plain": [
       "array([ 7.,  2.,  1.,  0.,  9.,  1.,  9.,  9.,  6.,  9.,  0.,  6.,  9.,\n",
       "        0.,  1.,  5.,  9.,  7.,  5.,  4.])"
      ]
     },
     "execution_count": 8,
     "metadata": {},
     "output_type": "execute_result"
    }
   ],
   "source": [
    "predictedDigits"
   ]
  },
  {
   "cell_type": "code",
   "execution_count": 9,
   "metadata": {},
   "outputs": [
    {
     "name": "stdout",
     "output_type": "stream",
     "text": [
      "\n",
      "Accuracy: 0.8\n"
     ]
    }
   ],
   "source": [
    "# Calculate accuracy\n",
    "correct = 0\n",
    "\n",
    "for i in range(testImages.shape[0]):\n",
    "    if predictedDigits[i] == testLabels[i]:\n",
    "        correct += 1\n",
    "        \n",
    "accuracy = correct/float(testImages.shape[0])\n",
    "print\n",
    "print \"Accuracy: \" + str(accuracy)    "
   ]
  },
  {
   "cell_type": "code",
   "execution_count": null,
   "metadata": {
    "collapsed": true
   },
   "outputs": [],
   "source": []
  }
 ],
 "metadata": {
  "kernelspec": {
   "display_name": "Python 2",
   "language": "python",
   "name": "python2"
  },
  "language_info": {
   "codemirror_mode": {
    "name": "ipython",
    "version": 2
   },
   "file_extension": ".py",
   "mimetype": "text/x-python",
   "name": "python",
   "nbconvert_exporter": "python",
   "pygments_lexer": "ipython2",
   "version": "2.7.13"
  }
 },
 "nbformat": 4,
 "nbformat_minor": 2
}
